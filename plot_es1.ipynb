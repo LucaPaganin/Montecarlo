{
 "cells": [
  {
   "cell_type": "code",
   "execution_count": null,
   "metadata": {},
   "outputs": [],
   "source": [
    "import numpy as np\n",
    "import matplotlib.pyplot as plt\n",
    "#from matplotlib.pyplot import imshow\n",
    "import re\n",
    "from pathlib import Path\n",
    "import os\n",
    "\n",
    "wd = Path().resolve()\n",
    "outdir = wd.parent / \"MC_Results\"\n",
    "\n",
    "energy = np.loadtxt(wd / \"energy.txt\")\n",
    "orderpar = np.loadtxt(wd / \"order_parameter.txt\")\n",
    "initial_config = np.loadtxt(wd / \"initial_config.txt\")\n",
    "final_config = np.loadtxt(wd / \"final_config.txt\")\n",
    "\n",
    "\n",
    "with open(wd/\"info.txt\",\"r\") as f:\n",
    "    regex = re.compile(r\"^[A-Za-z/*]+: (?P<value>([0-9\\.])+)\")\n",
    "    line = f.readline()\n",
    "    match = regex.search(line)\n",
    "    nmcs = int(match.group(\"value\"))\n",
    "    line = f.readline()\n",
    "    match = regex.search(line)\n",
    "    J = float(match.group(\"value\"))\n",
    "    "
   ]
  },
  {
   "cell_type": "code",
   "execution_count": null,
   "metadata": {},
   "outputs": [],
   "source": [
    "fig, axs = plt.subplots(nrows=2, ncols=1, figsize=(15,15))\n",
    "ax = axs[0]\n",
    "ax.set_title(\"Energy, J/kbT = {}\".format(J))\n",
    "ax.plot(energy, color=\"green\")\n",
    "ax = axs[1]\n",
    "ax.set_title(\"Order Parameter, J/kbT = {}\".format(J))\n",
    "ax.plot(orderpar, color=\"blue\")\n",
    "fig.savefig(outdir / \"data_J_{}.pdf\".format(J))"
   ]
  },
  {
   "cell_type": "code",
   "execution_count": null,
   "metadata": {},
   "outputs": [],
   "source": [
    "fig, axs = plt.subplots(nrows=1,ncols=2,figsize=(20,20))\n",
    "ax = axs[0]\n",
    "ax.set_title(\"Initial State\")\n",
    "ax.imshow(initial_config)\n",
    "ax = axs[1]\n",
    "ax.set_title(\"After {} MCsteps , J/kbT = {}\".format(nmcs,J))\n",
    "ax.imshow(final_config)\n",
    "fig.savefig(outdir / \"evo_J_{}.pdf\".format(J))"
   ]
  }
 ],
 "metadata": {
  "kernelspec": {
   "display_name": "Python 3",
   "language": "python",
   "name": "python3"
  },
  "language_info": {
   "codemirror_mode": {
    "name": "ipython",
    "version": 3
   },
   "file_extension": ".py",
   "mimetype": "text/x-python",
   "name": "python",
   "nbconvert_exporter": "python",
   "pygments_lexer": "ipython3",
   "version": "3.7.4"
  }
 },
 "nbformat": 4,
 "nbformat_minor": 4
}
