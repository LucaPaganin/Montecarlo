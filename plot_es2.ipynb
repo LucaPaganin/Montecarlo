{
 "cells": [
  {
   "cell_type": "code",
   "execution_count": null,
   "metadata": {},
   "outputs": [],
   "source": [
    "import numpy as np\n",
    "import matplotlib.pyplot as plt\n",
    "import itertools\n",
    "\n",
    "lattice = np.loadtxt(\"output2/final_config.txt\")\n",
    "old_lattice = lattice.copy()\n",
    "lattice = (lattice>=1).astype(int)"
   ]
  },
  {
   "cell_type": "code",
   "execution_count": null,
   "metadata": {},
   "outputs": [],
   "source": [
    "fig, ax = plt.subplots(nrows=1,ncols=1,figsize=(10,10))\n",
    "ax.imshow(lattice)"
   ]
  },
  {
   "cell_type": "code",
   "execution_count": null,
   "metadata": {},
   "outputs": [],
   "source": [
    "flux=1.0/60\n",
    "dim=100\n",
    "nu0=1e12\n",
    "E0=0.4\n",
    "Eb=0.2\n",
    "kB=8.62e-5\n",
    "T=300\n",
    "q = np.array([0,1,2,3])\n",
    "weights = (4-q)*nu0*np.exp(-(E0+q*Eb)/(kB*T))\n",
    "weights = np.append(weights,flux*dim*dim)\n",
    "psums = list(itertools.accumulate(weights, lambda x,y:x+y))"
   ]
  },
  {
   "cell_type": "code",
   "execution_count": null,
   "metadata": {},
   "outputs": [],
   "source": [
    "psums"
   ]
  },
  {
   "cell_type": "code",
   "execution_count": null,
   "metadata": {},
   "outputs": [],
   "source": []
  }
 ],
 "metadata": {
  "kernelspec": {
   "display_name": "Python 3",
   "language": "python",
   "name": "python3"
  },
  "language_info": {
   "codemirror_mode": {
    "name": "ipython",
    "version": 3
   },
   "file_extension": ".py",
   "mimetype": "text/x-python",
   "name": "python",
   "nbconvert_exporter": "python",
   "pygments_lexer": "ipython3",
   "version": "3.7.4"
  }
 },
 "nbformat": 4,
 "nbformat_minor": 4
}
