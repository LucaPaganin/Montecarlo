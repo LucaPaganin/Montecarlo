{
 "cells": [
  {
   "cell_type": "code",
   "execution_count": 1,
   "metadata": {},
   "outputs": [
    {
     "data": {
      "text/plain": [
       "'\\nlattice = np.loadtxt(\"../output2/final_config.txt\")\\nlattice2 = np.loadtxt(\"../output2/final_config2.txt\")\\nlattice[lattice>=1] = 1\\nlattice2[lattice2>=1] = 1\\n#lattice2[lattice2==-1] = -1\\nfig, axs = plt.subplots(nrows=2,ncols=1,figsize=(10,10))\\ndata = [lattice,lattice2]\\nfor ax,l in zip(axs,data):\\n    img=ax.imshow(l, interpolation=\\'none\\')\\n    fig.colorbar(img,ax=ax)\\n'"
      ]
     },
     "execution_count": 1,
     "metadata": {},
     "output_type": "execute_result"
    }
   ],
   "source": [
    "import numpy as np\n",
    "import matplotlib.pyplot as plt\n",
    "import itertools\n",
    "from scipy.optimize import curve_fit\n",
    "\n",
    "\"\"\"\n",
    "lattice = np.loadtxt(\"../output2/final_config.txt\")\n",
    "lattice2 = np.loadtxt(\"../output2/final_config2.txt\")\n",
    "lattice[lattice>=1] = 1\n",
    "lattice2[lattice2>=1] = 1\n",
    "#lattice2[lattice2==-1] = -1\n",
    "fig, axs = plt.subplots(nrows=2,ncols=1,figsize=(10,10))\n",
    "data = [lattice,lattice2]\n",
    "for ax,l in zip(axs,data):\n",
    "    img=ax.imshow(l, interpolation='none')\n",
    "    fig.colorbar(img,ax=ax)\n",
    "\"\"\""
   ]
  },
  {
   "cell_type": "code",
   "execution_count": 2,
   "metadata": {},
   "outputs": [],
   "source": [
    "data = np.loadtxt(\"../output2/n_islands_vs_gamma.txt\")"
   ]
  },
  {
   "cell_type": "code",
   "execution_count": 3,
   "metadata": {},
   "outputs": [
    {
     "data": {
      "text/plain": [
       "<matplotlib.legend.Legend at 0x1153fdfd0>"
      ]
     },
     "execution_count": 3,
     "metadata": {},
     "output_type": "execute_result"
    },
    {
     "data": {
      "image/png": "[encoded data removed]",
      "text/plain": [
       "<Figure size 720x720 with 1 Axes>"
      ]
     },
     "metadata": {
      "needs_background": "light"
     },
     "output_type": "display_data"
    }
   ],
   "source": [
    "x = np.log(data[:,0])\n",
    "y = np.log(data[:,1])\n",
    "fnc = lambda x,p0,p1: p0+p1*x\n",
    "popt, pcov = curve_fit(fnc, x, y)\n",
    "\n",
    "fig, ax = plt.subplots(figsize=(10,10))\n",
    "ax.scatter(x, y)\n",
    "ax.plot(x, fnc(x,*popt), label=f\"p0 = {popt[0].round(3)}  p1 = {popt[1].round(3)}\")\n",
    "ax.legend(loc=\"upper right\")"
   ]
  },
  {
   "cell_type": "code",
   "execution_count": 4,
   "metadata": {},
   "outputs": [
    {
     "data": {
      "text/plain": [
       "array([[1.00000e+04, 9.88000e+02],\n",
       "       [2.06914e+04, 7.97000e+02],\n",
       "       [4.28133e+04, 6.52000e+02],\n",
       "       [8.85867e+04, 5.17000e+02],\n",
       "       [1.83298e+05, 4.02000e+02],\n",
       "       [3.79269e+05, 3.20000e+02],\n",
       "       [7.84760e+05, 2.52000e+02],\n",
       "       [1.62378e+06, 2.11000e+02],\n",
       "       [3.35982e+06, 1.54000e+02],\n",
       "       [6.95193e+06, 1.33000e+02],\n",
       "       [1.43845e+07, 9.60000e+01],\n",
       "       [2.97635e+07, 6.90000e+01],\n",
       "       [6.15848e+07, 5.30000e+01],\n",
       "       [1.27427e+08, 3.50000e+01],\n",
       "       [2.63665e+08, 3.30000e+01],\n",
       "       [5.45559e+08, 3.10000e+01],\n",
       "       [1.12884e+09, 2.10000e+01],\n",
       "       [2.33572e+09, 1.40000e+01],\n",
       "       [4.83293e+09, 1.30000e+01],\n",
       "       [1.00000e+10, 9.00000e+00]])"
      ]
     },
     "execution_count": 4,
     "metadata": {},
     "output_type": "execute_result"
    }
   ],
   "source": [
    "data"
   ]
  },
  {
   "cell_type": "code",
   "execution_count": null,
   "metadata": {},
   "outputs": [],
   "source": [
    "fr = np.loadtxt(\"../output2/fractal.txt\")\n",
    "fr[fr>=1]=1"
   ]
  },
  {
   "cell_type": "code",
   "execution_count": null,
   "metadata": {},
   "outputs": [],
   "source": [
    "fig, ax = plt.subplots(figsize=(10,10))\n",
    "ax.imshow(fr)"
   ]
  },
  {
   "cell_type": "code",
   "execution_count": null,
   "metadata": {},
   "outputs": [],
   "source": [
    "fr = np.loadtxt(\"../output2/fractal.txt\")\n",
    "fr[fr>=1]=1\n",
    "\n",
    "def m_R(data,r):\n",
    "    m = 0\n",
    "    size = data.shape[0]\n",
    "    for i in range(size):\n",
    "        for j in range(size):\n",
    "            if ((i-size/2)**2 + (j-size/2)**2 <= r*r):\n",
    "                if data[i,j] != -1 and data[i,j] != 0:\n",
    "                    m += 1\n",
    "                    data[i,j] = -1\n",
    "    return m\n",
    "\n",
    "rvals = np.arange(1,int(0.3*fr.shape[0]))\n",
    "mvals = []\n",
    "\n",
    "for r in rvals:\n",
    "    mvals.append(m_R(fr,r))\n"
   ]
  },
  {
   "cell_type": "code",
   "execution_count": null,
   "metadata": {},
   "outputs": [],
   "source": [
    "rvals = np.log(np.array(rvals))\n",
    "mvals = np.log(np.array(mvals))\n",
    "\n",
    "popt, pcov = curve_fit(fnc, rvals, mvals)\n",
    "plt.plot(rvals,mvals)\n",
    "plt.plot(rvals, fnc(rvals,*popt))"
   ]
  },
  {
   "cell_type": "code",
   "execution_count": null,
   "metadata": {},
   "outputs": [],
   "source": [
    "popt"
   ]
  },
  {
   "cell_type": "code",
   "execution_count": null,
   "metadata": {},
   "outputs": [],
   "source": [
    "plt.plot(rvals,mvals)"
   ]
  },
  {
   "cell_type": "code",
   "execution_count": null,
   "metadata": {},
   "outputs": [],
   "source": [
    "fr.shape[0]"
   ]
  },
  {
   "cell_type": "code",
   "execution_count": null,
   "metadata": {},
   "outputs": [],
   "source": []
  }
 ],
 "metadata": {
  "kernelspec": {
   "display_name": "Python 3",
   "language": "python",
   "name": "python3"
  },
  "language_info": {
   "codemirror_mode": {
    "name": "ipython",
    "version": 3
   },
   "file_extension": ".py",
   "mimetype": "text/x-python",
   "name": "python",
   "nbconvert_exporter": "python",
   "pygments_lexer": "ipython3",
   "version": "3.7.4"
  }
 },
 "nbformat": 4,
 "nbformat_minor": 4
}
