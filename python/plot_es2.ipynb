{
 "cells": [
  {
   "cell_type": "code",
   "execution_count": 1,
   "metadata": {},
   "outputs": [
    {
     "data": {
      "text/plain": [
       "'\\nlattice = np.loadtxt(\"../output2/final_config.txt\")\\nlattice2 = np.loadtxt(\"../output2/final_config2.txt\")\\nlattice[lattice>=1] = 1\\nlattice2[lattice2>=1] = 1\\n#lattice2[lattice2==-1] = -1\\nfig, axs = plt.subplots(nrows=2,ncols=1,figsize=(10,10))\\ndata = [lattice,lattice2]\\nfor ax,l in zip(axs,data):\\n    img=ax.imshow(l, interpolation=\\'none\\')\\n    fig.colorbar(img,ax=ax)\\n'"
      ]
     },
     "execution_count": 1,
     "metadata": {},
     "output_type": "execute_result"
    }
   ],
   "source": [
    "import numpy as np\n",
    "import matplotlib.pyplot as plt\n",
    "import itertools\n",
    "from scipy.optimize import curve_fit\n",
    "\n",
    "\"\"\"\n",
    "lattice = np.loadtxt(\"../output2/final_config.txt\")\n",
    "lattice2 = np.loadtxt(\"../output2/final_config2.txt\")\n",
    "lattice[lattice>=1] = 1\n",
    "lattice2[lattice2>=1] = 1\n",
    "#lattice2[lattice2==-1] = -1\n",
    "fig, axs = plt.subplots(nrows=2,ncols=1,figsize=(10,10))\n",
    "data = [lattice,lattice2]\n",
    "for ax,l in zip(axs,data):\n",
    "    img=ax.imshow(l, interpolation='none')\n",
    "    fig.colorbar(img,ax=ax)\n",
    "\"\"\""
   ]
  },
  {
   "cell_type": "code",
   "execution_count": null,
   "metadata": {},
   "outputs": [],
   "source": [
    "data = np.loadtxt(\"../output2/n_islands_vs_gamma.txt\")"
   ]
  },
  {
   "cell_type": "code",
   "execution_count": null,
   "metadata": {},
   "outputs": [],
   "source": [
    "x = np.log(data[:,0])\n",
    "y = np.log(data[:,1])\n",
    "fnc = lambda x,p0,p1: p0+p1*x\n",
    "popt, pcov = curve_fit(fnc, x, y)\n",
    "\n",
    "fig, ax = plt.subplots(figsize=(10,10))\n",
    "ax.plot(x, y)\n",
    "ax.plot(x, fnc(x,*popt), label=f\"p0 = {popt[0].round(3)}  p1 = {popt[1].round(3)}\")\n",
    "ax.legend(loc=\"upper right\")"
   ]
  },
  {
   "cell_type": "code",
   "execution_count": null,
   "metadata": {},
   "outputs": [],
   "source": []
  },
  {
   "cell_type": "code",
   "execution_count": 13,
   "metadata": {},
   "outputs": [],
   "source": [
    "fr = np.loadtxt(\"../output2/fractal.txt\")\n",
    "fr[fr>=1]=1"
   ]
  },
  {
   "cell_type": "code",
   "execution_count": 14,
   "metadata": {},
   "outputs": [
    {
     "data": {
      "text/plain": [
       "<matplotlib.image.AxesImage at 0x101b4da6d0>"
      ]
     },
     "execution_count": 14,
     "metadata": {},
     "output_type": "execute_result"
    },
    {
     "data": {
      "image/png": "[encoded data removed]",
      "text/plain": [
       "<Figure size 720x720 with 1 Axes>"
      ]
     },
     "metadata": {
      "needs_background": "light"
     },
     "output_type": "display_data"
    }
   ],
   "source": [
    "fig, ax = plt.subplots(figsize=(10,10))\n",
    "ax.imshow(fr)"
   ]
  },
  {
   "cell_type": "code",
   "execution_count": null,
   "metadata": {},
   "outputs": [],
   "source": [
    "def m_R(data,r):\n",
    "    m = 0\n",
    "    size = data.shape[0]\n",
    "    for i in range(size):\n",
    "        for j in range(size):\n",
    "            if ((i-size/2)**2 + (j-size/2)**2 <= r*r):\n",
    "                if data[i,j] != -1:\n",
    "                    m += 1\n",
    "                    data[i,j] = -1\n",
    "    return m\n",
    "\n",
    "rvals = np.arange(1,int(0.3*fr.shape[0]))\n",
    "mvals = []\n",
    "while(r<=0.3*fr.shape[0]):\n",
    "    \n",
    "    r+=1\n"
   ]
  }
 ],
 "metadata": {
  "kernelspec": {
   "display_name": "Python 3",
   "language": "python",
   "name": "python3"
  },
  "language_info": {
   "codemirror_mode": {
    "name": "ipython",
    "version": 3
   },
   "file_extension": ".py",
   "mimetype": "text/x-python",
   "name": "python",
   "nbconvert_exporter": "python",
   "pygments_lexer": "ipython3",
   "version": "3.7.4"
  }
 },
 "nbformat": 4,
 "nbformat_minor": 4
}
